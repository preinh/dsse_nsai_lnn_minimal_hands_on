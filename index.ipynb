{
 "cells": [
  {
   "cell_type": "markdown",
   "id": "abd6e4e5-195c-4b2f-8439-044020599be3",
   "metadata": {},
   "source": [
    "# LNN: Propositional WalkThrough\n",
    "\n",
    "Source: __[LNN Tutorial](https://github.com/IBM/LNN/blob/master/tutorials/Chapter%201%20-%20Reasoning/0.%20Propositional%20Logic.ipynb)__, by __[Naweed Khan](https://researcher.ibm.com/researcher/view.php?person=ibm-Naweed.Khan)__"
   ]
  },
  {
   "cell_type": "code",
   "execution_count": 1,
   "id": "b57a14f2-1bf3-46e8-bce7-70e4c8e89217",
   "metadata": {},
   "outputs": [],
   "source": [
    "# Basic Imports\n",
    "from lnn import Proposition, Fact, And, Implies"
   ]
  },
  {
   "cell_type": "markdown",
   "id": "b48d28b0-4cba-445b-9ebb-70e73b1414a5",
   "metadata": {},
   "source": [
    "## 1. Logic\n",
    "\n",
    "Please consider the following simple statement:\n",
    "> _\"Messi plays for the Argentina National Football Club.\"_\n",
    "\n",
    "Breaking it down, it shows actually a composition of other atomic statements: \n",
    "- There is Messi \n",
    "- There is AFC \n",
    "- There is a PlayFor role."
   ]
  },
  {
   "cell_type": "code",
   "execution_count": 2,
   "id": "24b15758-3fbc-4fc4-9bea-54f9e7e4b262",
   "metadata": {},
   "outputs": [],
   "source": [
    "# These 2 Propositions\n",
    "Messi = Proposition(\"Messi\")\n",
    "AFC = Proposition(\"Argentina National Football Club(AFC)\")\n",
    "\n",
    "# Are believed to be True facts.\n",
    "Messi.add_data(Fact.TRUE)\n",
    "AFC.add_data(Fact.TRUE)"
   ]
  },
  {
   "cell_type": "markdown",
   "id": "6002c405-74dc-45fc-a4a6-e102a23d11cb",
   "metadata": {
    "tags": []
   },
   "source": [
    "#### Graph representation of Propositions and Operators\n",
    "\n",
    "<center><figure>\n",
    "<img src=\"https://github.com/IBM/LNN/raw/master/tutorials/Chapter%201%20-%20Reasoning/img/0/graph.png\" alt=\"Alt\" title=\"Alt\"  width=\"600\" />\n",
    "</figure></center>"
   ]
  },
  {
   "cell_type": "code",
   "execution_count": 3,
   "id": "2f3255bb-32e0-471d-bfe5-026a33456810",
   "metadata": {},
   "outputs": [],
   "source": [
    "# Propositions\n",
    "BornInArgentina = Proposition(\"Messi is born in Argentina\")\n",
    "PlaysForAFC = Proposition(\"Messi plays for the Argentina National Football Club\")\n",
    "\n",
    "# are related by Operators\n",
    "AND = And(BornInArgentina, PlaysForAFC)\n",
    "\n",
    "# They could also believed to be True\n",
    "PlaysForAFC.add_data(Fact.TRUE)\n",
    "BornInArgentina.add_data(Fact.TRUE)"
   ]
  },
  {
   "cell_type": "markdown",
   "id": "5c50f38c-7410-4fae-94cb-35f271fef435",
   "metadata": {},
   "source": [
    "#### Examples of logical operators:\n",
    "- Negation (Not)\n",
    "- Conjunction (And)\n",
    "- Disjunction (Or)\n",
    "- Implication (Implies)\n",
    "- Bidirectional Equivalence (Iff)"
   ]
  },
  {
   "cell_type": "markdown",
   "id": "d57e66db-bbfe-43f6-b1c8-a7d821fb2250",
   "metadata": {},
   "source": [
    "### Inference: Omni-directional Reasoning\n",
    "\n",
    "Reasoners may not have any understanding or semantics about what the propositions refer to in the real-world, but they can at least create atomic containers for these objects and reason about their interaction in more complex formulae.\n",
    "\n",
    "#### Upwards: Operator Target\n",
    "<center><figure>\n",
    "    <img src=\"https://github.com/IBM/LNN/raw/master/tutorials/Chapter%201%20-%20Reasoning/img/0/Upward.png\" alt=\"Alt\" title=\"Alt\" width=\"300\" />\n",
    "</figure></center>"
   ]
  },
  {
   "cell_type": "code",
   "execution_count": 4,
   "id": "4c94395c-a0bf-42c9-91d9-c32cc7d094f1",
   "metadata": {},
   "outputs": [
    {
     "name": "stdout",
     "output_type": "stream",
     "text": [
      "OPEN And: (AFC ∧ Born in Argentina)                         TRUE (1.0, 1.0)\n",
      "\n"
     ]
    }
   ],
   "source": [
    "# Given these propositions\n",
    "AFC = Proposition(\"AFC\")\n",
    "BornInArgentina = Proposition(\"Born in Argentina\")\n",
    "\n",
    "# And an operator\n",
    "AND = And(AFC, BornInArgentina)\n",
    "\n",
    "# By knowing some facts \n",
    "AFC.add_data(Fact.TRUE)\n",
    "BornInArgentina.add_data(Fact.TRUE)\n",
    "\n",
    "# We can infer the operator Truth \n",
    "AND.upward()\n",
    "AND.print()"
   ]
  },
  {
   "cell_type": "markdown",
   "id": "caa9bf53-f04d-4d91-ab2f-003cae1158b4",
   "metadata": {},
   "source": [
    "#### Downwards: _Modus Ponens_\n",
    "<center><figure>\n",
    "<img src=\"https://github.com/IBM/LNN/raw/master/tutorials/Chapter%201%20-%20Reasoning/img/0/Downward.png\" alt=\"Alt\" title=\"Alt\"  width=\"300\"/>\n",
    "</figure></center>"
   ]
  },
  {
   "cell_type": "code",
   "execution_count": 5,
   "id": "9ab525a0-382d-4592-b9f5-35418b821848",
   "metadata": {},
   "outputs": [
    {
     "name": "stdout",
     "output_type": "stream",
     "text": [
      "OPEN Proposition: Speaks Spanish                         UNKNOWN (0.0, 1.0)\n",
      "\n"
     ]
    }
   ],
   "source": [
    "# Given these propositions\n",
    "BornInArgentina = Proposition(\"Born in Argentina\")\n",
    "Speaks_Spanish = Proposition(\"Speaks Spanish\")\n",
    "\n",
    "# And an operator with the propositions as operands\n",
    "IMPLIES = Implies(BornInArgentina, Speaks_Spanish)\n",
    "\n",
    "# By knowing some facts\n",
    "BornInArgentina.add_data(Fact.FALSE)\n",
    "IMPLIES.add_data(Fact.TRUE)\n",
    "\n",
    "# It's possible to 'deduce' the truth of the other one.\n",
    "IMPLIES.downward()\n",
    "Speaks_Spanish.print()"
   ]
  },
  {
   "cell_type": "markdown",
   "id": "231d3f86-d25b-4fa7-b9cf-970d7a6c0414",
   "metadata": {},
   "source": [
    "## 2. Bounds on Beliefs\n",
    "\n",
    "#### Extending Classical Truths\n",
    "\n",
    "In addition to classical _truth_ representation, `{0, 1}`..."
   ]
  },
  {
   "cell_type": "code",
   "execution_count": 6,
   "id": "333c1f6c-45f4-4ab3-ad22-13f5fe9d2908",
   "metadata": {},
   "outputs": [
    {
     "name": "stdout",
     "output_type": "stream",
     "text": [
      "OPEN Proposition: Messi                                     TRUE (1.0, 1.0)\n",
      "\n"
     ]
    }
   ],
   "source": [
    "Messi = Proposition(\"Messi\")\n",
    "Messi.add_data(Fact.TRUE)\n",
    "Messi.print()"
   ]
  },
  {
   "cell_type": "markdown",
   "id": "724a0d42-f48a-48d7-a64b-c2d706f0eacb",
   "metadata": {},
   "source": [
    "...the LNNs _truth_ can be:\n",
    "- any intermediate value between `[0, 1]`,\n",
    "- bounded by a range of real-values.\n",
    "\n",
    "Our beliefs can be encoded with lower and upper bounds, meaning that truth is anywere betwen `[L, U]`:"
   ]
  },
  {
   "cell_type": "code",
   "execution_count": 7,
   "id": "d8225156-3cc9-461f-8bb0-cdebc1fb45a4",
   "metadata": {},
   "outputs": [
    {
     "name": "stdout",
     "output_type": "stream",
     "text": [
      "OPEN Proposition: Rain                               APPROX_TRUE (0.7, 1.0)\n",
      "\n"
     ]
    }
   ],
   "source": [
    "Rain = Proposition(\"Rain\")\n",
    "Rain.add_data((.7, 1.0))\n",
    "Rain.print()"
   ]
  },
  {
   "cell_type": "markdown",
   "id": "fad4a81b-45e5-4760-a658-89c9ac7ca9be",
   "metadata": {},
   "source": [
    "This allows propper handling of _uncertainty_ and _ambiguity_.\n",
    "\n",
    "Examples of `Facts` using bounds with real-numbers.\n",
    "\n",
    "| | \"True\" | \"False\" | \"Unknown\" | \"Contradiction\" |\n",
    "| :-- | :--: | :--: | :--: | :--: |\n",
    "| Fact | TRUE | FALSE | UNKNOWN | CONTRADICTION | \n",
    "| Bounds | `(1.0, 1.0)` | `(0.0, 0.0)` | `(0.0, 1.0)` | `(1.0, 0.0)` |\n",
    "\n",
    "\n",
    "#### Bounded Inference\n",
    "\n",
    "**Upwards**"
   ]
  },
  {
   "cell_type": "code",
   "execution_count": 8,
   "id": "8bf7c2fd-c65b-46a1-920f-5609bf70d3d8",
   "metadata": {},
   "outputs": [
    {
     "name": "stdout",
     "output_type": "stream",
     "text": [
      "OPEN And: (English Premier League ∧ Born in England)  APPROX_FALSE (0.1, 0.4)\n",
      "\n"
     ]
    }
   ],
   "source": [
    "# Given these propositions\n",
    "EPL = Proposition(\"English Premier League\")\n",
    "BornInEngland = Proposition(\"Born in England\")\n",
    "\n",
    "# And an operator\n",
    "AND = And(EPL, BornInEngland)\n",
    "\n",
    "# By knowing some facts at some extent\n",
    "EPL.add_data((1.0, 1.0))\n",
    "BornInEngland.add_data((0.1, .4))\n",
    "\n",
    "# We still can reason about the operator Truth \n",
    "AND.upward()\n",
    "AND.print()"
   ]
  },
  {
   "cell_type": "markdown",
   "id": "ab66ee75-2e0a-4f38-8089-dd6374fcb820",
   "metadata": {},
   "source": [
    "**Downwards** will be the same. \n",
    "\n",
    "In this scenario, for instance, _\"We believe, with a confidence between 95-100%, that all Argentinians speak Spanish\"_."
   ]
  },
  {
   "cell_type": "code",
   "execution_count": 9,
   "id": "11c6bfea-96ea-44c1-bde5-7294d9bb1b81",
   "metadata": {},
   "outputs": [
    {
     "name": "stdout",
     "output_type": "stream",
     "text": [
      "OPEN Proposition: Speaks Spanish                     APPROX_TRUE (0.85, 1.0)\n",
      "\n"
     ]
    }
   ],
   "source": [
    "# Given some propositions\n",
    "BornInArgentina = Proposition(\"Born in Argentina\")\n",
    "SpeaksSpanish = Proposition(\"Speaks Spanish\")\n",
    "\n",
    "# and an operator\n",
    "IMPLIES = Implies(BornInArgentina, SpeaksSpanish)\n",
    "\n",
    "# By knowing their truths to some extent, \n",
    "BornInArgentina.add_data((0.9, 1.0))\n",
    "IMPLIES.add_data((0.95, 1.0))\n",
    "\n",
    "# We can make inferences too!\n",
    "IMPLIES.downward()\n",
    "SpeaksSpanish.print()"
   ]
  },
  {
   "cell_type": "markdown",
   "id": "29c9cbef-9a53-4dca-be59-b055c4fa67a8",
   "metadata": {},
   "source": [
    "Also, it follows the intuition that a higly-confident antecedent (LHS) related by a high-confidence operand, results in a high-confidence inference, calculated by the [implication in real-value logics](https://en.wikipedia.org/wiki/T-norm#Residua_of_prominent_left-continuous_t-norms)."
   ]
  },
  {
   "cell_type": "markdown",
   "id": "f551af9b-3646-477b-9919-9d6e6a7d71f7",
   "metadata": {
    "tags": []
   },
   "source": [
    "## 3. Learning\n",
    "\n",
    "By leveraging the Neural Networks' ability to learn from data and update parameters towards an objective."
   ]
  },
  {
   "cell_type": "markdown",
   "id": "34655277-1429-4be6-9c52-57afda1d3717",
   "metadata": {},
   "source": [
    "#### Contradictions\n",
    "\n",
    "LNNs can capture logical inconsistencies as the beliefs concur with each other. \n",
    "\n",
    "<center>\n",
    "    <figure>\n",
    "<img src=\"https://github.com/IBM/LNN/raw/master/tutorials/Chapter%201%20-%20Reasoning/img/2/contradiction.png\" width=\"320\" />\n",
    "</figure>\n",
    "    </center>\n",
    "\n",
    "On these cases the truth $T$ cannot be solved:\n",
    " \\begin{equation}\n",
    " T :\n",
    " \\begin{cases}\n",
    "    L_x > U_x\\\\\n",
    "    T_x > L_x\\\\ \n",
    "    T_x < U_x\n",
    " \\end{cases}\n",
    " \\end{equation}\n",
    "\n"
   ]
  },
  {
   "cell_type": "markdown",
   "id": "102114d3-fb0d-41cd-83d1-a6ffc9a1532a",
   "metadata": {},
   "source": [
    "#### Weighted Operators\n",
    "\n",
    "LNNs learning means parametrize the operators with _weights_, so real-value logic can leverage gradient descent and backpropagation for it. The edges became acting with weighted influence on beliefs.\n",
    "\n",
    "<center>\n",
    "    <figure>\n",
    "<img src=\"https://github.com/IBM/LNN/raw/master/tutorials/Chapter%201%20-%20Reasoning/img/2/weighted_representation.png\" width=\"320\" />\n",
    "</figure>\n",
    "    </center>\n",
    "    \n",
    "In graph representation of LNNs, some of the nodes will behave as neurons with weighted local connectiveness."
   ]
  },
  {
   "cell_type": "markdown",
   "id": "f43373de-faf8-41eb-8eb0-1a92a238fe78",
   "metadata": {},
   "source": [
    "#### Training\n",
    "\n",
    "Let's see how to train a single logical conjunction to be consistent when inconsistencies arise."
   ]
  },
  {
   "cell_type": "code",
   "execution_count": 10,
   "id": "6d0be815-a5d1-4f6c-b734-bc5c32cd5880",
   "metadata": {},
   "outputs": [],
   "source": [
    "# Imports\n",
    "from lnn import Propositions, Model, Loss, Direction"
   ]
  },
  {
   "cell_type": "markdown",
   "id": "417b4769-f701-4176-9018-19d9b632481a",
   "metadata": {},
   "source": [
    "Given a mix of True and False propositions in a trully expected conjunction.\n",
    "<center><figure>\n",
    "<img src=\"https://github.com/IBM/LNN/raw/master/tutorials/Chapter%201%20-%20Reasoning/img/2/and_1.png\" width=\"500\" />\n",
    "</figure></center>"
   ]
  },
  {
   "cell_type": "code",
   "execution_count": 11,
   "id": "cc117998-d013-424f-8c0c-3acb3f109f09",
   "metadata": {},
   "outputs": [],
   "source": [
    "# Propositions\n",
    "A, B, C, D, E = Propositions(\"A\", \"B\", \"C\", \"D\", \"E\")\n",
    "\n",
    "# Conjunction\n",
    "AND = And(A, B, C, D, E)\n",
    "\n",
    "# Mixed Beliefs on Propositions\n",
    "A.add_data(Fact.TRUE)\n",
    "B.add_data(Fact.FALSE)\n",
    "C.add_data(Fact.TRUE)\n",
    "D.add_data(Fact.FALSE)\n",
    "E.add_data(Fact.TRUE)\n",
    "\n",
    "# and Operators\n",
    "AND.add_data(Fact.TRUE)"
   ]
  },
  {
   "cell_type": "markdown",
   "id": "834714ec-8874-4903-ac45-34919e6992df",
   "metadata": {},
   "source": [
    "Upwards inference will leads to a _contradiction_:\n",
    "\n",
    "<center><figure>\n",
    "<img src=\"https://github.com/IBM/LNN/raw/master/tutorials/Chapter%201%20-%20Reasoning/img/2/and_2.png\" width=\"500\" />\n",
    "</figure></center>"
   ]
  },
  {
   "cell_type": "code",
   "execution_count": 12,
   "id": "056413e9-1ef8-48e2-8d9c-66bf59a9a615",
   "metadata": {
    "tags": []
   },
   "outputs": [
    {
     "name": "stdout",
     "output_type": "stream",
     "text": [
      "OPEN And: (A ∧ B ∧ C ∧ D ∧ E)                      CONTRADICTION (1.0, 0.0)\n",
      "\n"
     ]
    }
   ],
   "source": [
    "# By modeling the existing knowledge\n",
    "model = Model()\n",
    "model.add_knowledge(AND)\n",
    "\n",
    "# A contradiction will be raised...\n",
    "model.infer()\n",
    "AND.print()"
   ]
  },
  {
   "cell_type": "markdown",
   "id": "4179f1aa-81cc-402c-8dd3-1f14057f83e7",
   "metadata": {},
   "source": [
    "The introduction of a _contradiction loss_:\n",
    "\n",
    "\\begin{align}\n",
    " Loss = \\lambda \\sum_{\\forall i} \\text{max} (0, L_i - U_i)\n",
    "\\end{align}\n",
    "\n",
    "The LNN can be trained, having the weights adjusted in such way that all contradiction sources become downweighted and eventually removed:\n",
    "<center><figure>\n",
    "<img src=\"https://github.com/IBM/LNN/raw/master/tutorials/Chapter%201%20-%20Reasoning/img/2/and_3.png\" width=\"500\" />\n",
    "</figure></center>"
   ]
  },
  {
   "cell_type": "code",
   "execution_count": 13,
   "id": "0196ccc2-2df7-4f9a-98dc-95c5c4a95f80",
   "metadata": {},
   "outputs": [
    {
     "name": "stdout",
     "output_type": "stream",
     "text": [
      "OPEN And: (A ∧ B ∧ C ∧ D ∧ E)                               TRUE (1.0, 1.0)\n",
      "params  α: 1.0,  β: 1.0,  w: [1. 0. 1. 0. 1.]\n"
     ]
    }
   ],
   "source": [
    "# ...but, the small LNN can learn a suitable set of weights to minimize it\n",
    "model.train(direction=Direction.UPWARD, \n",
    "            losses=[Loss.CONTRADICTION])\n",
    "\n",
    "# so, 'dreams come True' :-D\n",
    "AND.print(params=True)"
   ]
  }
 ],
 "metadata": {
  "kernelspec": {
   "display_name": "nsai",
   "language": "python",
   "name": "nsai"
  },
  "language_info": {
   "codemirror_mode": {
    "name": "ipython",
    "version": 3
   },
   "file_extension": ".py",
   "mimetype": "text/x-python",
   "name": "python",
   "nbconvert_exporter": "python",
   "pygments_lexer": "ipython3",
   "version": "3.9.13"
  }
 },
 "nbformat": 4,
 "nbformat_minor": 5
}
