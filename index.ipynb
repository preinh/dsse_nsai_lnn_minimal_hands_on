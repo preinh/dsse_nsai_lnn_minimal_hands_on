{
 "cells": [
  {
   "cell_type": "markdown",
   "id": "abd6e4e5-195c-4b2f-8439-044020599be3",
   "metadata": {},
   "source": [
    "# LNN (Live) WalkThough\n",
    "\n",
    "source: __[LNN Tutorial](https://github.com/IBM/LNN/blob/master/tutorials/Chapter%201%20-%20Reasoning/0.%20Propositional%20Logic.ipynb)__, by Naweed Khan"
   ]
  },
  {
   "cell_type": "code",
   "execution_count": 1,
   "id": "b57a14f2-1bf3-46e8-bce7-70e4c8e89217",
   "metadata": {},
   "outputs": [],
   "source": [
    "# Basic Imports\n",
    "from lnn import Proposition, Fact, And, Implies"
   ]
  },
  {
   "cell_type": "markdown",
   "id": "b48d28b0-4cba-445b-9ebb-70e73b1414a5",
   "metadata": {},
   "source": [
    "## 1. Logic"
   ]
  },
  {
   "cell_type": "code",
   "execution_count": 2,
   "id": "24b15758-3fbc-4fc4-9bea-54f9e7e4b262",
   "metadata": {},
   "outputs": [],
   "source": [
    "# Propositions\n",
    "Messi = Proposition(\"Messi\")\n",
    "AFC = Proposition(\"Argentina National Football Club(AFC)\")"
   ]
  },
  {
   "cell_type": "code",
   "execution_count": 3,
   "id": "bef5d245-91c9-4bf7-8bd5-23f0f8a145aa",
   "metadata": {},
   "outputs": [],
   "source": [
    "# Facts\n",
    "Messi.add_data(Fact.TRUE)\n",
    "AFC.add_data(Fact.TRUE)"
   ]
  },
  {
   "cell_type": "code",
   "execution_count": 4,
   "id": "2f3255bb-32e0-471d-bfe5-026a33456810",
   "metadata": {},
   "outputs": [],
   "source": [
    "# Rules\n",
    "BornInArgentina = Proposition(\"Messi is born in Argentina\")\n",
    "PlaysForAFC = Proposition(\"Messi plays for the Argentina National Football Club\")\n",
    "AND = And(BornInArgentina, PlaysForAFC)\n",
    "\n",
    "# Data \n",
    "PlaysForAFC.add_data(Fact.TRUE)\n",
    "BornInArgentina.add_data(Fact.TRUE)"
   ]
  },
  {
   "cell_type": "markdown",
   "id": "6002c405-74dc-45fc-a4a6-e102a23d11cb",
   "metadata": {},
   "source": [
    "<img src=\"https://github.com/IBM/LNN/raw/master/tutorials/Chapter%201%20-%20Reasoning/img/0/graph.png\" alt=\"Conjunction\" title=\"Conjunction\" />"
   ]
  },
  {
   "cell_type": "code",
   "execution_count": 5,
   "id": "4c94395c-a0bf-42c9-91d9-c32cc7d094f1",
   "metadata": {},
   "outputs": [
    {
     "name": "stdout",
     "output_type": "stream",
     "text": [
      "OPEN And: (AFC ∧ Born in Argentina)                         TRUE (1.0, 1.0)\n",
      "\n"
     ]
    }
   ],
   "source": [
    "# Rules\n",
    "AFC = Proposition(\"AFC\")\n",
    "BornInArgentina = Proposition(\"Born in Argentina\")\n",
    "AND = And(AFC, BornInArgentina)\n",
    "\n",
    "# Data \n",
    "AFC.add_data(Fact.TRUE)\n",
    "BornInArgentina.add_data(Fact.TRUE)\n",
    "\n",
    "# Reasoning\n",
    "AND.upward()\n",
    "AND.print()"
   ]
  },
  {
   "cell_type": "code",
   "execution_count": 6,
   "id": "9ab525a0-382d-4592-b9f5-35418b821848",
   "metadata": {},
   "outputs": [
    {
     "name": "stdout",
     "output_type": "stream",
     "text": [
      "OPEN Proposition: Speaks Spanish                            TRUE (1.0, 1.0)\n",
      "\n"
     ]
    }
   ],
   "source": [
    "# Rules\n",
    "BornInArgentina = Proposition(\"Born in Argentina\")\n",
    "Speaks_Spanish = Proposition(\"Speaks Spanish\")\n",
    "IMPLIES = Implies(BornInArgentina, Speaks_Spanish)\n",
    "\n",
    "# Data \n",
    "BornInArgentina.add_data(Fact.TRUE)\n",
    "IMPLIES.add_data(Fact.TRUE)\n",
    "\n",
    "# Reasoning\n",
    "IMPLIES.downward()\n",
    "Speaks_Spanish.print()"
   ]
  },
  {
   "cell_type": "markdown",
   "id": "231d3f86-d25b-4fa7-b9cf-970d7a6c0414",
   "metadata": {},
   "source": [
    "## 2. Bounds"
   ]
  },
  {
   "cell_type": "code",
   "execution_count": 7,
   "id": "333c1f6c-45f4-4ab3-ad22-13f5fe9d2908",
   "metadata": {},
   "outputs": [
    {
     "name": "stdout",
     "output_type": "stream",
     "text": [
      "OPEN Proposition: Messi                                     TRUE (1.0, 1.0)\n",
      "\n"
     ]
    }
   ],
   "source": [
    "Messi = Proposition(\"Messi\")\n",
    "Messi.add_data(Fact.TRUE)\n",
    "Messi.print()"
   ]
  },
  {
   "cell_type": "code",
   "execution_count": 8,
   "id": "d8225156-3cc9-461f-8bb0-cdebc1fb45a4",
   "metadata": {},
   "outputs": [
    {
     "name": "stdout",
     "output_type": "stream",
     "text": [
      "OPEN Proposition: Rain                               APPROX_TRUE (0.7, 1.0)\n",
      "\n"
     ]
    }
   ],
   "source": [
    "Rain = Proposition(\"Rain\")\n",
    "Rain.add_data((.7, 1.0))\n",
    "Rain.print()"
   ]
  },
  {
   "cell_type": "code",
   "execution_count": 9,
   "id": "8bf7c2fd-c65b-46a1-920f-5609bf70d3d8",
   "metadata": {},
   "outputs": [
    {
     "name": "stdout",
     "output_type": "stream",
     "text": [
      "OPEN And: (English Premier League ∧ Born in England)  APPROX_FALSE (0.1, 0.4)\n",
      "\n"
     ]
    }
   ],
   "source": [
    "# Rules\n",
    "EPL = Proposition(\"English Premier League\")\n",
    "BornInEngland = Proposition(\"Born in England\")\n",
    "AND = And(EPL, BornInEngland)\n",
    "\n",
    "# Data\n",
    "EPL.add_data((1.0, 1.0))\n",
    "BornInEngland.add_data((0.1, .4))\n",
    "\n",
    "# Reasoning\n",
    "AND.upward()\n",
    "AND.print()"
   ]
  },
  {
   "cell_type": "code",
   "execution_count": 10,
   "id": "11c6bfea-96ea-44c1-bde5-7294d9bb1b81",
   "metadata": {},
   "outputs": [
    {
     "name": "stdout",
     "output_type": "stream",
     "text": [
      "OPEN Proposition: Speaks Spanish                     APPROX_TRUE (0.85, 1.0)\n",
      "\n"
     ]
    }
   ],
   "source": [
    "# Rules\n",
    "BornInArgentina = Proposition(\"Born in Argentina\")\n",
    "SpeaksSpanish = Proposition(\"Speaks Spanish\")\n",
    "IMPLIES = Implies(BornInArgentina, SpeaksSpanish)\n",
    "\n",
    "# Data\n",
    "BornInArgentina.add_data((0.9, 1.0))\n",
    "IMPLIES.add_data((0.95, 1.0))\n",
    "\n",
    "# Reasoning\n",
    "IMPLIES.downward()\n",
    "SpeaksSpanish.print()"
   ]
  },
  {
   "cell_type": "markdown",
   "id": "f551af9b-3646-477b-9919-9d6e6a7d71f7",
   "metadata": {
    "tags": []
   },
   "source": [
    "## 3. Learning"
   ]
  },
  {
   "cell_type": "code",
   "execution_count": 11,
   "id": "6d0be815-a5d1-4f6c-b734-bc5c32cd5880",
   "metadata": {},
   "outputs": [],
   "source": [
    "# Imports\n",
    "from lnn import Propositions, Model, Loss, Direction"
   ]
  },
  {
   "cell_type": "code",
   "execution_count": 12,
   "id": "cc117998-d013-424f-8c0c-3acb3f109f09",
   "metadata": {},
   "outputs": [],
   "source": [
    "# Rules\n",
    "A, B, C, D, E = Propositions(\"A\", \"B\", \"C\", \"D\", \"E\")\n",
    "AND = And(A, B, C, D, E)\n",
    "\n",
    "\n",
    "# Data\n",
    "A.add_data(Fact.TRUE)\n",
    "B.add_data(Fact.FALSE)\n",
    "C.add_data(Fact.TRUE)\n",
    "D.add_data(Fact.FALSE)\n",
    "E.add_data(Fact.TRUE)\n",
    "AND.add_data(Fact.TRUE)"
   ]
  },
  {
   "cell_type": "code",
   "execution_count": 13,
   "id": "056413e9-1ef8-48e2-8d9c-66bf59a9a615",
   "metadata": {
    "tags": []
   },
   "outputs": [
    {
     "name": "stdout",
     "output_type": "stream",
     "text": [
      "OPEN And: (A ∧ B ∧ C ∧ D ∧ E)                      CONTRADICTION (1.0, 0.0)\n",
      "\n"
     ]
    }
   ],
   "source": [
    "# Knowledge\n",
    "model = Model()\n",
    "model.add_knowledge(AND)\n",
    "\n",
    "# Reasoning\n",
    "model.infer()\n",
    "AND.print()"
   ]
  },
  {
   "cell_type": "code",
   "execution_count": 14,
   "id": "0196ccc2-2df7-4f9a-98dc-95c5c4a95f80",
   "metadata": {},
   "outputs": [
    {
     "name": "stdout",
     "output_type": "stream",
     "text": [
      "OPEN And: (A ∧ B ∧ C ∧ D ∧ E)                               TRUE (1.0, 1.0)\n",
      "params  α: 1.0,  β: 1.0,  w: [1. 0. 1. 0. 1.]\n"
     ]
    }
   ],
   "source": [
    "model.train(direction=Direction.UPWARD, losses=[Loss.CONTRADICTION])\n",
    "AND.print(params=True)"
   ]
  },
  {
   "cell_type": "code",
   "execution_count": null,
   "id": "269a82c1-ac17-4a15-acf4-9df6dcce6446",
   "metadata": {},
   "outputs": [],
   "source": []
  }
 ],
 "metadata": {
  "kernelspec": {
   "display_name": "nsai",
   "language": "python",
   "name": "nsai"
  },
  "language_info": {
   "codemirror_mode": {
    "name": "ipython",
    "version": 3
   },
   "file_extension": ".py",
   "mimetype": "text/x-python",
   "name": "python",
   "nbconvert_exporter": "python",
   "pygments_lexer": "ipython3",
   "version": "3.9.13"
  }
 },
 "nbformat": 4,
 "nbformat_minor": 5
}
